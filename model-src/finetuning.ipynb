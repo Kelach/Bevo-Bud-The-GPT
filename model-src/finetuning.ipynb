{
 "cells": [
  {
   "cell_type": "code",
   "execution_count": 19,
   "metadata": {},
   "outputs": [
    {
     "data": {
      "application/vnd.jupyter.widget-view+json": {
       "model_id": "2f1ad5702455474ca06a5a7a03f84f01",
       "version_major": 2,
       "version_minor": 0
      },
      "text/plain": [
       "Map:   0%|          | 0/5301 [00:00<?, ? examples/s]"
      ]
     },
     "metadata": {},
     "output_type": "display_data"
    }
   ],
   "source": [
    "# https://huggingface.co/docs/trl/en/sft_trainer#format-your-input-prompts\n",
    "# https://huggingface.co/docs/trl/en/sft_trainer#supervised-fine-tuning-trainer\n",
    "def format_reddit_post(sample):\n",
    "    answer = sample[\"answer\\r\"]\n",
    "    question = sample[\"question\"]\n",
    "    conversation = {\n",
    "        \"messages\": [\n",
    "            {\"role\": \"system\", \"content\": \"You help answer questions for UT Austin students\"},\n",
    "            {\"role\": \"user\", \"content\": question },\n",
    "            {\"role\": \"assistant\", \"content\": answer}\n",
    "\n",
    "        ]\n",
    "    }\n",
    "\n",
    "    return conversation\n",
    "\n",
    "from datasets import load_dataset, Dataset\n",
    "import pandas as pd\n",
    "\n",
    "# load the processed dataset\n",
    "base_path = \"Bevo-Bud-The-GPT/data\"\n",
    "# train_data = load_dataset(\"csv\", data_files=f\"{base_path}/train-v1.csv\")\n",
    "# test_data = load_dataset(\"json\", data_files=f\"{base_path}/train-v1.json\")\n",
    "\n",
    "train_df = pd.read_csv(f\"{base_path}/train-v1.csv\", lineterminator='\\n')\n",
    "train_df.dropna(inplace=True)\n",
    "\n",
    "dataset_hf = Dataset.from_pandas(train_df)\n",
    "# dataset_hf['answer\\r']\n",
    "train_data = dataset_hf.map(format_reddit_post, batched=False, remove_columns=[\"question\", \"answer\\r\"])"
   ]
  },
  {
   "cell_type": "code",
   "execution_count": 20,
   "metadata": {},
   "outputs": [
    {
     "data": {
      "text/plain": [
       "[{'content': 'You help answer questions for UT Austin students',\n",
       "  'role': 'system'},\n",
       " {'content': 'Why are the ice cream machines at J2 always broken? ',\n",
       "  'role': 'user'},\n",
       " {'content': 'I’m not sure if it’s still the same, but a few years ago I worked at J2 and the lady that was in charge of the desserts area always complained about having to clean the machines. I’m pretty sure she just turned them off on days she didn’t feel like cleaning them. \\r',\n",
       "  'role': 'assistant'}]"
      ]
     },
     "execution_count": 20,
     "metadata": {},
     "output_type": "execute_result"
    }
   ],
   "source": [
    "train_data['messages'][0]"
   ]
  },
  {
   "cell_type": "code",
   "execution_count": 32,
   "metadata": {},
   "outputs": [
    {
     "name": "stdout",
     "output_type": "stream",
     "text": [
      "Saving as verion:  1.1\n"
     ]
    }
   ],
   "source": [
    "from transformers import AutoTokenizer, TrainingArguments\n",
    "model_checkpoint = \"distilbert/distilgpt2\"\n",
    "tokenizer = AutoTokenizer.from_pretrained(model_checkpoint, use_fast=True, max_length=1102)\n",
    "tokenizer.pad_token = tokenizer.eos_token\n",
    "version = \"1.1\"\n",
    "print(\"Saving as verion: \", version)"
   ]
  },
  {
   "cell_type": "code",
   "execution_count": 34,
   "metadata": {},
   "outputs": [
    {
     "data": {
      "application/vnd.jupyter.widget-view+json": {
       "model_id": "24177c301f0c4ee6997bc3318f4dd74c",
       "version_major": 2,
       "version_minor": 0
      },
      "text/plain": [
       "Generating train split: 0 examples [00:00, ? examples/s]"
      ]
     },
     "metadata": {},
     "output_type": "display_data"
    },
    {
     "data": {
      "text/html": [
       "\n",
       "    <div>\n",
       "      \n",
       "      <progress value='890' max='890' style='width:300px; height:20px; vertical-align: middle;'></progress>\n",
       "      [890/890 4:24:56, Epoch 10/10]\n",
       "    </div>\n",
       "    <table border=\"1\" class=\"dataframe\">\n",
       "  <thead>\n",
       " <tr style=\"text-align: left;\">\n",
       "      <th>Step</th>\n",
       "      <th>Training Loss</th>\n",
       "    </tr>\n",
       "  </thead>\n",
       "  <tbody>\n",
       "    <tr>\n",
       "      <td>500</td>\n",
       "      <td>4.034800</td>\n",
       "    </tr>\n",
       "  </tbody>\n",
       "</table><p>"
      ],
      "text/plain": [
       "<IPython.core.display.HTML object>"
      ]
     },
     "metadata": {},
     "output_type": "display_data"
    },
    {
     "data": {
      "text/plain": [
       "TrainOutput(global_step=890, training_loss=3.9344483793451546, metrics={'train_runtime': 15913.9084, 'train_samples_per_second': 0.445, 'train_steps_per_second': 0.056, 'total_flos': 1862809524633600.0, 'train_loss': 3.9344483793451546, 'epoch': 10.0})"
      ]
     },
     "execution_count": 34,
     "metadata": {},
     "output_type": "execute_result"
    }
   ],
   "source": [
    "from trl import SFTTrainer \n",
    "from peft import LoraConfig\n",
    "\n",
    "training_args = {\n",
    "    # \"per_device_train_batch_size\": 2,\n",
    "    # \"per_device_eval_batch_size\": 2,\n",
    "    # \"gradient_accumulation_steps\": 4,\n",
    "    \"num_train_epochs\": 10,\n",
    "    # \"logging_steps\": 1,\n",
    "    # \"save_steps\": 100,\n",
    "    \"seed\": 42,\n",
    "    \"output_dir\": f\"{base_path}/Bevo-Bud\",\n",
    "    # \"push_to_hub\": True,\n",
    "    \"overwrite_output_dir\": True\n",
    "}\n",
    "\n",
    "peft_config = LoraConfig(\n",
    "    r=16,\n",
    "    lora_alpha=32,\n",
    "    lora_dropout=0.05,\n",
    "    bias=\"none\",\n",
    "    task_type=\"CAUSAL_LM\",\n",
    ")\n",
    "training_args = TrainingArguments(**training_args)\n",
    "trainer = SFTTrainer(\n",
    "            model=model_checkpoint,\n",
    "            train_dataset=train_data,\n",
    "            tokenizer=tokenizer,\n",
    "            packing=True,\n",
    "            peft_config=peft_config,\n",
    "            max_seq_length=1024,\n",
    "            args=training_args,\n",
    "        )\n",
    "\n",
    "trainer.train()"
   ]
  },
  {
   "cell_type": "code",
   "execution_count": 35,
   "metadata": {},
   "outputs": [
    {
     "data": {
      "application/vnd.jupyter.widget-view+json": {
       "model_id": "2f3f7bcfa34b4b989b16b56a69d84f13",
       "version_major": 2,
       "version_minor": 0
      },
      "text/plain": [
       "Upload 2 LFS files:   0%|          | 0/2 [00:00<?, ?it/s]"
      ]
     },
     "metadata": {},
     "output_type": "display_data"
    },
    {
     "data": {
      "application/vnd.jupyter.widget-view+json": {
       "model_id": "a3133cd613f749d09c126d6314efa88b",
       "version_major": 2,
       "version_minor": 0
      },
      "text/plain": [
       "events.out.tfevents.1714030355.82d7450fbbdd.30.6:   0%|          | 0.00/5.57k [00:00<?, ?B/s]"
      ]
     },
     "metadata": {},
     "output_type": "display_data"
    },
    {
     "data": {
      "application/vnd.jupyter.widget-view+json": {
       "model_id": "3512fa97f1134bab89a9ef215a1e7763",
       "version_major": 2,
       "version_minor": 0
      },
      "text/plain": [
       "adapter_model.safetensors:   0%|          | 0.00/1.18M [00:00<?, ?B/s]"
      ]
     },
     "metadata": {},
     "output_type": "display_data"
    }
   ],
   "source": [
    "trainer.save_model(f\"{base_path}/model\")"
   ]
  },
  {
   "cell_type": "markdown",
   "metadata": {},
   "source": [
    "### Testing"
   ]
  },
  {
   "cell_type": "code",
   "execution_count": 36,
   "metadata": {},
   "outputs": [],
   "source": [
    "from transformers import pipeline\n",
    "\n",
    "generator = pipeline('text-generation', model=f\"{base_path}/model\", tokenizer=tokenizer)\n",
    "# generator = pipeline('text-generation', model=f\"{base_path}/Bevo-Budv{version}\", tokenizer=tokenizer)"
   ]
  },
  {
   "cell_type": "code",
   "execution_count": 40,
   "metadata": {},
   "outputs": [
    {
     "data": {
      "text/plain": [
       "[{'generated_text': \"{'content': 'You help answer questions for UT Austin students','role': 'system'},{'content': 'Can I still graduate if my GPA is below the minimum?','role': 'user'}},{'content': '\"}]"
      ]
     },
     "execution_count": 40,
     "metadata": {},
     "output_type": "execute_result"
    }
   ],
   "source": [
    "\n",
    "generator(\"{'content': 'You help answer questions for UT Austin students','role': 'system'},{'content': 'Can I still graduate if my GPA is below the minimum?','role': 'user'}\")"
   ]
  },
  {
   "cell_type": "markdown",
   "metadata": {},
   "source": [
    "## Uploading Model To Hub"
   ]
  },
  {
   "cell_type": "code",
   "execution_count": 81,
   "metadata": {},
   "outputs": [],
   "source": []
  },
  {
   "cell_type": "code",
   "execution_count": 82,
   "metadata": {},
   "outputs": [
    {
     "data": {
      "application/vnd.jupyter.widget-view+json": {
       "model_id": "c9601b449c094e0aa9e3374baf038422",
       "version_major": 2,
       "version_minor": 0
      },
      "text/plain": [
       "VBox(children=(HTML(value='<center> <img\\nsrc=https://huggingface.co/front/assets/huggingface_logo-noborder.sv…"
      ]
     },
     "metadata": {},
     "output_type": "display_data"
    },
    {
     "data": {
      "application/vnd.jupyter.widget-view+json": {
       "model_id": "7895c96f33234b5eaf02621b91cc7c0e",
       "version_major": 2,
       "version_minor": 0
      },
      "text/plain": [
       "events.out.tfevents.1713985198.82d7450fbbdd.5942.0:   0%|          | 0.00/5.00k [00:00<?, ?B/s]"
      ]
     },
     "metadata": {},
     "output_type": "display_data"
    },
    {
     "data": {
      "application/vnd.jupyter.widget-view+json": {
       "model_id": "7c468770587640bb82a57360fcafc0f0",
       "version_major": 2,
       "version_minor": 0
      },
      "text/plain": [
       "Upload 4 LFS files:   0%|          | 0/4 [00:00<?, ?it/s]"
      ]
     },
     "metadata": {},
     "output_type": "display_data"
    },
    {
     "data": {
      "application/vnd.jupyter.widget-view+json": {
       "model_id": "532c10699bda4e7697881e7f09adf495",
       "version_major": 2,
       "version_minor": 0
      },
      "text/plain": [
       "events.out.tfevents.1713985235.82d7450fbbdd.5942.1:   0%|          | 0.00/5.57k [00:00<?, ?B/s]"
      ]
     },
     "metadata": {},
     "output_type": "display_data"
    },
    {
     "data": {
      "application/vnd.jupyter.widget-view+json": {
       "model_id": "eae897e5f31f4195ac59ab88e55f157c",
       "version_major": 2,
       "version_minor": 0
      },
      "text/plain": [
       "training_args.bin:   0%|          | 0.00/4.98k [00:00<?, ?B/s]"
      ]
     },
     "metadata": {},
     "output_type": "display_data"
    },
    {
     "data": {
      "application/vnd.jupyter.widget-view+json": {
       "model_id": "bd3d38f5b6f64e68b6499ad7b4dd8e6c",
       "version_major": 2,
       "version_minor": 0
      },
      "text/plain": [
       "adapter_model.safetensors:   0%|          | 0.00/1.18M [00:00<?, ?B/s]"
      ]
     },
     "metadata": {},
     "output_type": "display_data"
    },
    {
     "data": {
      "text/plain": [
       "CommitInfo(commit_url='https://huggingface.co/Kelechie/tmp_trainer/commit/a5daaa92c8176af9a9d307f73b97b613e83db901', commit_message='Bevo-Budv1.0', commit_description='', oid='a5daaa92c8176af9a9d307f73b97b613e83db901', pr_url=None, pr_revision=None, pr_num=None)"
      ]
     },
     "execution_count": 82,
     "metadata": {},
     "output_type": "execute_result"
    }
   ],
   "source": [
    "from huggingface_hub import notebook_login\n",
    "notebook_login()\n",
    "trainer.push_to_hub(f\"Bevo-Budv\", )"
   ]
  }
 ],
 "metadata": {
  "kernelspec": {
   "display_name": "Python 3 (ipykernel)",
   "language": "python",
   "name": "python3"
  }
 },
 "nbformat": 4,
 "nbformat_minor": 2
}
