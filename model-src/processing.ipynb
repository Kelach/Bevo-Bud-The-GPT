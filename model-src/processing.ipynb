{
 "cells": [
  {
   "cell_type": "markdown",
   "metadata": {},
   "source": [
    "# Data processing"
   ]
  },
  {
   "cell_type": "code",
   "execution_count": 9,
   "metadata": {},
   "outputs": [],
   "source": [
    "import json\n",
    "base_path = \"./Bevo-Bud-The-GPT/data\"\n",
    "with open(f'{base_path}/UTAustin_submissions.json', 'r') as f:\n",
    "    submissions = json.load(f)\n",
    "\n",
    "with open(f'{base_path}/UTAustin_comments.json', 'r') as f:\n",
    "    comments = json.load(f)\n",
    "\n",
    "sub_ids_map = {}\n",
    "for index, sub in enumerate(submissions):\n",
    "    if sub['id'] not in sub_ids_map:\n",
    "        if \"?\" in sub[\"title\"]:\n",
    "            sub_ids_map[sub['id']] = sub\n",
    "    else:\n",
    "        print(\"Duplicate submission id: \", sub['id'], f\" at index {index}\")\n",
    "\n",
    "com_ids_map = {}\n",
    "for com in comments:\n",
    "    com_ids_map[com['link_id']] = com"
   ]
  },
  {
   "cell_type": "code",
   "execution_count": 10,
   "metadata": {},
   "outputs": [
    {
     "name": "stdout",
     "output_type": "stream",
     "text": [
      "Ignored comments:  29104\n"
     ]
    }
   ],
   "source": [
    "subs_coms_map = {}\n",
    "for sub_id in sub_ids_map.keys():\n",
    "    subs_coms_map[sub_id] = {\n",
    "        \"submission\": sub_ids_map[sub_id],\n",
    "        \"comments\": []\n",
    "    }\n",
    "ignore_comments_count = 0\n",
    "for com_id in com_ids_map.keys():\n",
    "    sub_id = com_id.split(\"_\")[1]\n",
    "    if sub_id in subs_coms_map:\n",
    "        comment = com_ids_map[com_id]\n",
    "        if comment[\"score\"] > 1 and comment[\"parent_id\"] == com_id:\n",
    "            # filter all comments to get only the best comments\n",
    "            subs_coms_map[sub_id][\"comments\"].append(com_id)\n",
    "    else:\n",
    "        ignore_comments_count += 1\n",
    "print(\"Ignored comments: \", ignore_comments_count)"
   ]
  },
  {
   "cell_type": "code",
   "execution_count": 15,
   "metadata": {},
   "outputs": [],
   "source": [
    "# structing data into the form:\n",
    "# replace \"I\" with \"a student\" for each response, grab answers with a certain score\n",
    "\n",
    "# restructuring data into conversational format: \n",
    "# {\"messages\": [{\"role\": \"system\", \"content\": \"You are helpful\"}, {\"role\": \"user\", \"content\": \"What's the capital of France?\"}, {\"role\": \"assistant\", \"content\": \"...\"}]}\n",
    "\n",
    "def format_reddit_post(submission, comment):\n",
    "    conversation = {\n",
    "        \"messages\": [\n",
    "            {\"role\": \"system\", \"content\": \"You help answer questions for UT Austin students\"},\n",
    "            {\"role\": \"user\", \"content\": submission['title'].strip().replace('\\n', '') + \" \" + submission['selftext'].strip().replace('\\n', '')},\n",
    "            {\"role\": \"assistant\", \"content\": f\"{comment['body']}\"}\n",
    "\n",
    "        ]\n",
    "    }\n",
    "\n",
    "    return conversation\n",
    "get_question = lambda x: x['title'].strip().replace('\\n', '') + \" \" + x['selftext'].strip().replace('\\n', '')\n",
    "get_answer = lambda x: x['body']\n",
    "data = []\n",
    "\n",
    "for sub_id in subs_coms_map.keys():\n",
    "    submission = subs_coms_map[sub_id][\"submission\"]\n",
    "    com_ids = subs_coms_map[sub_id][\"comments\"]\n",
    "    for com_id in com_ids:\n",
    "        comment = com_ids_map[com_id]\n",
    "        conversation = {\"question\" : get_question(submission), \"answer\": get_answer(comment)}\n",
    "        # conversation = format_reddit_post(submission, comment)\n",
    "        data.append(conversation)\n"
   ]
  },
  {
   "cell_type": "markdown",
   "metadata": {},
   "source": [
    "## Saving data"
   ]
  },
  {
   "cell_type": "code",
   "execution_count": 16,
   "metadata": {},
   "outputs": [],
   "source": [
    "from sklearn.model_selection import train_test_split\n",
    "import csv\n",
    "import json\n",
    "\n",
    "seed = 1\n",
    "train, test = train_test_split(data, test_size=0.2, random_state=seed)\n",
    "\n",
    "with open(f\"{base_path}/train-v1.csv\", \"w\") as f:\n",
    "    writeer = csv.DictWriter(f, fieldnames=[\"question\", \"answer\"])\n",
    "    writeer.writeheader()\n",
    "    writeer.writerows(train)\n",
    "\n",
    "with open(f\"{base_path}/test-v1.csv\", \"w\") as f:\n",
    "    writeer = csv.DictWriter(f, fieldnames=[\"question\", \"answer\"])\n",
    "    writeer.writeheader()\n",
    "    writeer.writerows(test)"
   ]
  }
 ],
 "metadata": {
  "kernelspec": {
   "display_name": "Python 3 (ipykernel)",
   "language": "python",
   "name": "python3"
  },
  "language_info": {
   "codemirror_mode": {
    "name": "ipython",
    "version": 3
   },
   "file_extension": ".py",
   "mimetype": "text/x-python",
   "name": "python",
   "nbconvert_exporter": "python",
   "pygments_lexer": "ipython3",
   "version": "3.11.1"
  }
 },
 "nbformat": 4,
 "nbformat_minor": 2
}
